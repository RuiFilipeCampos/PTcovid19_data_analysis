{
 "cells": [
  {
   "cell_type": "code",
   "execution_count": 1,
   "metadata": {
    "ExecuteTime": {
     "end_time": "2021-09-19T14:44:51.891752Z",
     "start_time": "2021-09-19T14:44:51.073938Z"
    }
   },
   "outputs": [],
   "source": [
    "from _globals import *"
   ]
  },
  {
   "cell_type": "markdown",
   "metadata": {},
   "source": [
    "# What is in `data.csv`? "
   ]
  },
  {
   "cell_type": "code",
   "execution_count": 2,
   "metadata": {
    "ExecuteTime": {
     "end_time": "2021-09-19T14:44:51.907378Z",
     "start_time": "2021-09-19T14:44:51.891752Z"
    }
   },
   "outputs": [
    {
     "data": {
      "text/plain": [
       "WindowsPath('covid19pt-data/data.csv')"
      ]
     },
     "execution_count": 2,
     "metadata": {},
     "output_type": "execute_result"
    }
   ],
   "source": [
    "PATH.data"
   ]
  },
  {
   "cell_type": "code",
   "execution_count": 3,
   "metadata": {
    "ExecuteTime": {
     "end_time": "2021-09-19T14:44:52.756457Z",
     "start_time": "2021-09-19T14:44:52.725205Z"
    },
    "scrolled": true
   },
   "outputs": [],
   "source": [
    "class data:\n",
    "    \"\"\"A namespace for data read from `data.csv`\n",
    "    \"\"\"\n",
    "    path = PATH.data\n",
    "    df = pd.read_csv(PATH.data)"
   ]
  },
  {
   "cell_type": "code",
   "execution_count": 4,
   "metadata": {
    "ExecuteTime": {
     "end_time": "2021-09-19T14:44:59.042630Z",
     "start_time": "2021-09-19T14:44:58.995738Z"
    }
   },
   "outputs": [
    {
     "data": {
      "text/html": [
       "<div>\n",
       "<style scoped>\n",
       "    .dataframe tbody tr th:only-of-type {\n",
       "        vertical-align: middle;\n",
       "    }\n",
       "\n",
       "    .dataframe tbody tr th {\n",
       "        vertical-align: top;\n",
       "    }\n",
       "\n",
       "    .dataframe thead th {\n",
       "        text-align: right;\n",
       "    }\n",
       "</style>\n",
       "<table border=\"1\" class=\"dataframe\">\n",
       "  <thead>\n",
       "    <tr style=\"text-align: right;\">\n",
       "      <th></th>\n",
       "      <th>data</th>\n",
       "      <th>data_dados</th>\n",
       "      <th>confirmados</th>\n",
       "      <th>confirmados_arsnorte</th>\n",
       "      <th>confirmados_arscentro</th>\n",
       "      <th>confirmados_arslvt</th>\n",
       "      <th>confirmados_arsalentejo</th>\n",
       "      <th>confirmados_arsalgarve</th>\n",
       "      <th>confirmados_acores</th>\n",
       "      <th>confirmados_madeira</th>\n",
       "      <th>...</th>\n",
       "      <th>obitos_m</th>\n",
       "      <th>confirmados_desconhecidos_m</th>\n",
       "      <th>confirmados_desconhecidos_f</th>\n",
       "      <th>ativos</th>\n",
       "      <th>internados_enfermaria</th>\n",
       "      <th>confirmados_desconhecidos</th>\n",
       "      <th>incidencia_nacional</th>\n",
       "      <th>incidencia_continente</th>\n",
       "      <th>rt_nacional</th>\n",
       "      <th>rt_continente</th>\n",
       "    </tr>\n",
       "  </thead>\n",
       "  <tbody>\n",
       "    <tr>\n",
       "      <th>0</th>\n",
       "      <td>26-02-2020</td>\n",
       "      <td>26-02-2020 00:00</td>\n",
       "      <td>0</td>\n",
       "      <td>0</td>\n",
       "      <td>0</td>\n",
       "      <td>0</td>\n",
       "      <td>0</td>\n",
       "      <td>0</td>\n",
       "      <td>0</td>\n",
       "      <td>0</td>\n",
       "      <td>...</td>\n",
       "      <td>NaN</td>\n",
       "      <td>NaN</td>\n",
       "      <td>NaN</td>\n",
       "      <td>NaN</td>\n",
       "      <td>NaN</td>\n",
       "      <td>NaN</td>\n",
       "      <td>NaN</td>\n",
       "      <td>NaN</td>\n",
       "      <td>NaN</td>\n",
       "      <td>NaN</td>\n",
       "    </tr>\n",
       "    <tr>\n",
       "      <th>1</th>\n",
       "      <td>27-02-2020</td>\n",
       "      <td>27-02-2020 00:00</td>\n",
       "      <td>0</td>\n",
       "      <td>0</td>\n",
       "      <td>0</td>\n",
       "      <td>0</td>\n",
       "      <td>0</td>\n",
       "      <td>0</td>\n",
       "      <td>0</td>\n",
       "      <td>0</td>\n",
       "      <td>...</td>\n",
       "      <td>NaN</td>\n",
       "      <td>NaN</td>\n",
       "      <td>NaN</td>\n",
       "      <td>NaN</td>\n",
       "      <td>NaN</td>\n",
       "      <td>NaN</td>\n",
       "      <td>NaN</td>\n",
       "      <td>NaN</td>\n",
       "      <td>NaN</td>\n",
       "      <td>NaN</td>\n",
       "    </tr>\n",
       "    <tr>\n",
       "      <th>2</th>\n",
       "      <td>28-02-2020</td>\n",
       "      <td>28-02-2020 00:00</td>\n",
       "      <td>0</td>\n",
       "      <td>0</td>\n",
       "      <td>0</td>\n",
       "      <td>0</td>\n",
       "      <td>0</td>\n",
       "      <td>0</td>\n",
       "      <td>0</td>\n",
       "      <td>0</td>\n",
       "      <td>...</td>\n",
       "      <td>NaN</td>\n",
       "      <td>NaN</td>\n",
       "      <td>NaN</td>\n",
       "      <td>NaN</td>\n",
       "      <td>NaN</td>\n",
       "      <td>NaN</td>\n",
       "      <td>NaN</td>\n",
       "      <td>NaN</td>\n",
       "      <td>NaN</td>\n",
       "      <td>NaN</td>\n",
       "    </tr>\n",
       "    <tr>\n",
       "      <th>3</th>\n",
       "      <td>29-02-2020</td>\n",
       "      <td>29-02-2020 00:00</td>\n",
       "      <td>0</td>\n",
       "      <td>0</td>\n",
       "      <td>0</td>\n",
       "      <td>0</td>\n",
       "      <td>0</td>\n",
       "      <td>0</td>\n",
       "      <td>0</td>\n",
       "      <td>0</td>\n",
       "      <td>...</td>\n",
       "      <td>NaN</td>\n",
       "      <td>NaN</td>\n",
       "      <td>NaN</td>\n",
       "      <td>NaN</td>\n",
       "      <td>NaN</td>\n",
       "      <td>NaN</td>\n",
       "      <td>NaN</td>\n",
       "      <td>NaN</td>\n",
       "      <td>NaN</td>\n",
       "      <td>NaN</td>\n",
       "    </tr>\n",
       "    <tr>\n",
       "      <th>4</th>\n",
       "      <td>01-03-2020</td>\n",
       "      <td>01-03-2020 00:00</td>\n",
       "      <td>0</td>\n",
       "      <td>0</td>\n",
       "      <td>0</td>\n",
       "      <td>0</td>\n",
       "      <td>0</td>\n",
       "      <td>0</td>\n",
       "      <td>0</td>\n",
       "      <td>0</td>\n",
       "      <td>...</td>\n",
       "      <td>NaN</td>\n",
       "      <td>NaN</td>\n",
       "      <td>NaN</td>\n",
       "      <td>NaN</td>\n",
       "      <td>NaN</td>\n",
       "      <td>NaN</td>\n",
       "      <td>NaN</td>\n",
       "      <td>NaN</td>\n",
       "      <td>NaN</td>\n",
       "      <td>NaN</td>\n",
       "    </tr>\n",
       "  </tbody>\n",
       "</table>\n",
       "<p>5 rows × 93 columns</p>\n",
       "</div>"
      ],
      "text/plain": [
       "         data        data_dados  confirmados  confirmados_arsnorte  \\\n",
       "0  26-02-2020  26-02-2020 00:00            0                     0   \n",
       "1  27-02-2020  27-02-2020 00:00            0                     0   \n",
       "2  28-02-2020  28-02-2020 00:00            0                     0   \n",
       "3  29-02-2020  29-02-2020 00:00            0                     0   \n",
       "4  01-03-2020  01-03-2020 00:00            0                     0   \n",
       "\n",
       "   confirmados_arscentro  confirmados_arslvt  confirmados_arsalentejo  \\\n",
       "0                      0                   0                        0   \n",
       "1                      0                   0                        0   \n",
       "2                      0                   0                        0   \n",
       "3                      0                   0                        0   \n",
       "4                      0                   0                        0   \n",
       "\n",
       "   confirmados_arsalgarve  confirmados_acores  confirmados_madeira  ...  \\\n",
       "0                       0                   0                    0  ...   \n",
       "1                       0                   0                    0  ...   \n",
       "2                       0                   0                    0  ...   \n",
       "3                       0                   0                    0  ...   \n",
       "4                       0                   0                    0  ...   \n",
       "\n",
       "   obitos_m  confirmados_desconhecidos_m  confirmados_desconhecidos_f  ativos  \\\n",
       "0       NaN                          NaN                          NaN     NaN   \n",
       "1       NaN                          NaN                          NaN     NaN   \n",
       "2       NaN                          NaN                          NaN     NaN   \n",
       "3       NaN                          NaN                          NaN     NaN   \n",
       "4       NaN                          NaN                          NaN     NaN   \n",
       "\n",
       "   internados_enfermaria  confirmados_desconhecidos  incidencia_nacional  \\\n",
       "0                    NaN                        NaN                  NaN   \n",
       "1                    NaN                        NaN                  NaN   \n",
       "2                    NaN                        NaN                  NaN   \n",
       "3                    NaN                        NaN                  NaN   \n",
       "4                    NaN                        NaN                  NaN   \n",
       "\n",
       "   incidencia_continente  rt_nacional  rt_continente  \n",
       "0                    NaN          NaN            NaN  \n",
       "1                    NaN          NaN            NaN  \n",
       "2                    NaN          NaN            NaN  \n",
       "3                    NaN          NaN            NaN  \n",
       "4                    NaN          NaN            NaN  \n",
       "\n",
       "[5 rows x 93 columns]"
      ]
     },
     "execution_count": 4,
     "metadata": {},
     "output_type": "execute_result"
    }
   ],
   "source": [
    "data.df.head()"
   ]
  },
  {
   "cell_type": "code",
   "execution_count": 29,
   "metadata": {
    "ExecuteTime": {
     "end_time": "2021-09-19T14:54:16.697401Z",
     "start_time": "2021-09-19T14:54:16.675242Z"
    }
   },
   "outputs": [
    {
     "name": "stdout",
     "output_type": "stream",
     "text": [
      "data\n",
      "data_dados\n",
      "confirmados\n",
      "confirmados_arsnorte\n",
      "confirmados_arscentro\n",
      "confirmados_arslvt\n",
      "confirmados_arsalentejo\n",
      "confirmados_arsalgarve\n",
      "confirmados_acores\n",
      "confirmados_madeira\n",
      "confirmados_estrangeiro\n",
      "confirmados_novos\n",
      "recuperados\n",
      "obitos\n",
      "internados\n",
      "internados_uci\n",
      "lab\n",
      "suspeitos\n",
      "vigilancia\n",
      "n_confirmados\n",
      "cadeias_transmissao\n",
      "transmissao_importada\n",
      "confirmados_0_9_f\n",
      "confirmados_0_9_m\n",
      "confirmados_10_19_f\n",
      "confirmados_10_19_m\n",
      "confirmados_20_29_f\n",
      "confirmados_20_29_m\n",
      "confirmados_30_39_f\n",
      "confirmados_30_39_m\n",
      "confirmados_40_49_f\n",
      "confirmados_40_49_m\n",
      "confirmados_50_59_f\n",
      "confirmados_50_59_m\n",
      "confirmados_60_69_f\n",
      "confirmados_60_69_m\n",
      "confirmados_70_79_f\n",
      "confirmados_70_79_m\n",
      "confirmados_80_plus_f\n",
      "confirmados_80_plus_m\n",
      "sintomas_tosse\n",
      "sintomas_febre\n",
      "sintomas_dificuldade_respiratoria\n",
      "sintomas_cefaleia\n",
      "sintomas_dores_musculares\n",
      "sintomas_fraqueza_generalizada\n",
      "confirmados_f\n",
      "confirmados_m\n",
      "obitos_arsnorte\n",
      "obitos_arscentro\n",
      "obitos_arslvt\n",
      "obitos_arsalentejo\n",
      "obitos_arsalgarve\n",
      "obitos_acores\n",
      "obitos_madeira\n",
      "obitos_estrangeiro\n",
      "recuperados_arsnorte\n",
      "recuperados_arscentro\n",
      "recuperados_arslvt\n",
      "recuperados_arsalentejo\n",
      "recuperados_arsalgarve\n",
      "recuperados_acores\n",
      "recuperados_madeira\n",
      "recuperados_estrangeiro\n",
      "obitos_0_9_f\n",
      "obitos_0_9_m\n",
      "obitos_10_19_f\n",
      "obitos_10_19_m\n",
      "obitos_20_29_f\n",
      "obitos_20_29_m\n",
      "obitos_30_39_f\n",
      "obitos_30_39_m\n",
      "obitos_40_49_f\n",
      "obitos_40_49_m\n",
      "obitos_50_59_f\n",
      "obitos_50_59_m\n",
      "obitos_60_69_f\n",
      "obitos_60_69_m\n",
      "obitos_70_79_f\n",
      "obitos_70_79_m\n",
      "obitos_80_plus_f\n",
      "obitos_80_plus_m\n",
      "obitos_f\n",
      "obitos_m\n",
      "confirmados_desconhecidos_m\n",
      "confirmados_desconhecidos_f\n",
      "ativos\n",
      "internados_enfermaria\n",
      "confirmados_desconhecidos\n",
      "incidencia_nacional\n",
      "incidencia_continente\n",
      "rt_nacional\n",
      "rt_continente\n"
     ]
    }
   ],
   "source": [
    "for x in data.df:\n",
    "    print(x)"
   ]
  },
  {
   "cell_type": "markdown",
   "metadata": {},
   "source": [
    "Alright let's plot some of these..."
   ]
  },
  {
   "cell_type": "code",
   "execution_count": 34,
   "metadata": {
    "ExecuteTime": {
     "end_time": "2021-09-19T14:56:15.734959Z",
     "start_time": "2021-09-19T14:56:15.503138Z"
    }
   },
   "outputs": [
    {
     "data": {
      "text/plain": [
       "<AxesSubplot:title={'center':'Global view of data'}, xlabel='data'>"
      ]
     },
     "execution_count": 34,
     "metadata": {},
     "output_type": "execute_result"
    },
    {
     "data": {
      "image/png": "[encoded data removed]",
      "text/plain": [
       "<Figure size 1080x720 with 1 Axes>"
      ]
     },
     "metadata": {
      "needs_background": "light"
     },
     "output_type": "display_data"
    }
   ],
   "source": [
    "data.df.plot(\n",
    "    x=\"data\", \n",
    "    y=[\n",
    "        \"confirmados\", \n",
    "        \"ativos\",\n",
    "        \"recuperados\",\n",
    "        \"obitos\",\n",
    "        \"internados\",\n",
    "    ],\n",
    "    title = \"Global view of data\",\n",
    "    figsize = (15, 10),\n",
    ")"
   ]
  },
  {
   "cell_type": "code",
   "execution_count": null,
   "metadata": {},
   "outputs": [],
   "source": []
  }
 ],
 "metadata": {
  "kernelspec": {
   "display_name": "Python 3",
   "language": "python",
   "name": "python3"
  },
  "language_info": {
   "codemirror_mode": {
    "name": "ipython",
    "version": 3
   },
   "file_extension": ".py",
   "mimetype": "text/x-python",
   "name": "python",
   "nbconvert_exporter": "python",
   "pygments_lexer": "ipython3",
   "version": "3.8.5"
  },
  "toc": {
   "base_numbering": 1,
   "nav_menu": {},
   "number_sections": true,
   "sideBar": true,
   "skip_h1_title": false,
   "title_cell": "Table of Contents",
   "title_sidebar": "Contents",
   "toc_cell": false,
   "toc_position": {},
   "toc_section_display": true,
   "toc_window_display": false
  }
 },
 "nbformat": 4,
 "nbformat_minor": 4
}
